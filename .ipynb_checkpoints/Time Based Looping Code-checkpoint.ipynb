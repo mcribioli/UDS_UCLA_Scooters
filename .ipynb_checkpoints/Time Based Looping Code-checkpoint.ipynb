{
 "cells": [
  {
   "cell_type": "markdown",
   "id": "b9852874-4cfe-4078-8e82-5d79de12c788",
   "metadata": {},
   "source": [
    "## Looping Code\n",
    "This code is meant to be implimented in conjunction with the code to ping the transit API. The goal of this code to ping the API every 10 minutes, taking that data frame and appending them to an existing dataframe, and saving it to a CSV."
   ]
  },
  {
   "cell_type": "code",
   "execution_count": 1,
   "id": "51f1acc5-06c0-47bd-96b4-15bb92653056",
   "metadata": {},
   "outputs": [],
   "source": [
    "import pandas as pd\n",
    "import time\n",
    "import datetime as dt\n",
    "import geopandas as gpd\n",
    "import requests\n",
    "import json"
   ]
  },
  {
   "cell_type": "code",
   "execution_count": 2,
   "id": "88850d60-1675-4359-98a3-6aec4d22ac9c",
   "metadata": {},
   "outputs": [
    {
     "name": "stdout",
     "output_type": "stream",
     "text": [
      "getting ready to start\n"
     ]
    },
    {
     "ename": "AttributeError",
     "evalue": "'DataFrame' object has no attribute 'concat'",
     "output_type": "error",
     "traceback": [
      "\u001b[1;31m---------------------------------------------------------------------------\u001b[0m",
      "\u001b[1;31mAttributeError\u001b[0m                            Traceback (most recent call last)",
      "Cell \u001b[1;32mIn[3], line 21\u001b[0m\n\u001b[0;32m     18\u001b[0m df_scooter_data_new \u001b[38;5;241m=\u001b[39m pd\u001b[38;5;241m.\u001b[39mDataFrame(data\u001b[38;5;241m=\u001b[39mtemp) \u001b[38;5;66;03m# replace with code for dataframe containing all the information on the \u001b[39;00m\n\u001b[0;32m     19\u001b[0m df_Stop_data_1_new \u001b[38;5;241m=\u001b[39m pd\u001b[38;5;241m.\u001b[39mDataFrame(data\u001b[38;5;241m=\u001b[39mtemp)\u001b[38;5;66;03m# replace with code for dataframe containing departure times for first transit stop, copy and past for however many stops we want to do\u001b[39;00m\n\u001b[1;32m---> 21\u001b[0m df_scooter_data \u001b[38;5;241m=\u001b[39m \u001b[43mdf_scooter_data\u001b[49m\u001b[38;5;241;43m.\u001b[39;49m\u001b[43mconcat\u001b[49m(df_scooter_data_new)\n\u001b[0;32m     22\u001b[0m df_Stop_data_1 \u001b[38;5;241m=\u001b[39m df_Stop_data_1\u001b[38;5;241m.\u001b[39mconcat(df_Stop_data_1_new)\n\u001b[0;32m     24\u001b[0m \u001b[38;5;28mprint\u001b[39m(df_scooter_data)\n",
      "File \u001b[1;32m~\\UP_anaconda3\\lib\\site-packages\\pandas\\core\\generic.py:5902\u001b[0m, in \u001b[0;36mNDFrame.__getattr__\u001b[1;34m(self, name)\u001b[0m\n\u001b[0;32m   5895\u001b[0m \u001b[38;5;28;01mif\u001b[39;00m (\n\u001b[0;32m   5896\u001b[0m     name \u001b[38;5;129;01mnot\u001b[39;00m \u001b[38;5;129;01min\u001b[39;00m \u001b[38;5;28mself\u001b[39m\u001b[38;5;241m.\u001b[39m_internal_names_set\n\u001b[0;32m   5897\u001b[0m     \u001b[38;5;129;01mand\u001b[39;00m name \u001b[38;5;129;01mnot\u001b[39;00m \u001b[38;5;129;01min\u001b[39;00m \u001b[38;5;28mself\u001b[39m\u001b[38;5;241m.\u001b[39m_metadata\n\u001b[0;32m   5898\u001b[0m     \u001b[38;5;129;01mand\u001b[39;00m name \u001b[38;5;129;01mnot\u001b[39;00m \u001b[38;5;129;01min\u001b[39;00m \u001b[38;5;28mself\u001b[39m\u001b[38;5;241m.\u001b[39m_accessors\n\u001b[0;32m   5899\u001b[0m     \u001b[38;5;129;01mand\u001b[39;00m \u001b[38;5;28mself\u001b[39m\u001b[38;5;241m.\u001b[39m_info_axis\u001b[38;5;241m.\u001b[39m_can_hold_identifiers_and_holds_name(name)\n\u001b[0;32m   5900\u001b[0m ):\n\u001b[0;32m   5901\u001b[0m     \u001b[38;5;28;01mreturn\u001b[39;00m \u001b[38;5;28mself\u001b[39m[name]\n\u001b[1;32m-> 5902\u001b[0m \u001b[38;5;28;01mreturn\u001b[39;00m \u001b[38;5;28;43mobject\u001b[39;49m\u001b[38;5;241;43m.\u001b[39;49m\u001b[38;5;21;43m__getattribute__\u001b[39;49m\u001b[43m(\u001b[49m\u001b[38;5;28;43mself\u001b[39;49m\u001b[43m,\u001b[49m\u001b[43m \u001b[49m\u001b[43mname\u001b[49m\u001b[43m)\u001b[49m\n",
      "\u001b[1;31mAttributeError\u001b[0m: 'DataFrame' object has no attribute 'concat'"
     ]
    }
   ],
   "source": [
    "df_scooter_data = pd.DataFrame()\n",
    "df_scooter_data_new = pd.DataFrame()\n",
    "df_Stop_data_1 = pd.DataFrame() \n",
    "df_Stop_data_1_new = pd.DataFrame() \n",
    "\n",
    "while True:\n",
    "    if dt.datetime.now().hour < 20 or dt.datetime.now().hour > 7: #set hours of code looping, make sure the second value is less than the second value on the following if line\n",
    "        #some irrelevant function here\n",
    "        print('getting ready to start')\n",
    "        time.sleep(1) \n",
    "        \n",
    "        while True:\n",
    "            if dt.datetime.now().hour < 20 or dt.datetime.now().hour > 8: #set hours of code looping\n",
    "                \n",
    "                # put in code to retrieve from transit api\n",
    "                \n",
    "                temp = {'col1': [1, 2], 'col2': [3, 4]} #delete this later\n",
    "                df_scooter_data_new = pd.DataFrame(data=temp) # replace with code for dataframe containing all the information on the \n",
    "                df_Stop_data_1_new = pd.DataFrame(data=temp)# replace with code for dataframe containing departure times for first transit stop, copy and past for however many stops we want to do\n",
    "                \n",
    "                df_scooter_data = df_scooter_data.append(df_scooter_data_new)\n",
    "                df_Stop_data_1 = df_Stop_data_1.append(df_Stop_data_1_new)\n",
    "                \n",
    "                print(df_scooter_data)\n",
    "                print(df_Stop_data_1)\n",
    "                time.sleep(600) #set time to repeat in seconds\n",
    "            else: \n",
    "                continue\n",
    "    else:\n",
    "        print(\"Not time yet\")\n",
    "        time.sleep(1)\n",
    "        continue\n",
    "        \n",
    "date = dt.date.today()\n",
    "scooter_file_name = f\"Scooters {date}\".format(date)\n",
    "Stop_1_file_name = f\"Stop 1 {date}\".format(date)\n",
    "\n",
    "df_scooter_data.to_csv(f\"Data/{scooter_file_name}.csv\".format(scooter_file_name))\n",
    "df_Stop_data_1.to_csv(f\"Data/{Stop_1_file_name}.csv\".format(Stop_1_file_name))                    "
   ]
  },
  {
   "cell_type": "code",
   "execution_count": null,
   "id": "d180c9ae-e688-4792-a9a1-d019ac57708c",
   "metadata": {},
   "outputs": [],
   "source": []
  }
 ],
 "metadata": {
  "kernelspec": {
   "display_name": "Python 3 (ipykernel)",
   "language": "python",
   "name": "python3"
  },
  "language_info": {
   "codemirror_mode": {
    "name": "ipython",
    "version": 3
   },
   "file_extension": ".py",
   "mimetype": "text/x-python",
   "name": "python",
   "nbconvert_exporter": "python",
   "pygments_lexer": "ipython3",
   "version": "3.10.9"
  }
 },
 "nbformat": 4,
 "nbformat_minor": 5
}
