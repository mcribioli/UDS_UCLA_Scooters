{
 "cells": [
  {
   "cell_type": "markdown",
   "id": "95f2bb88-c303-4fc0-b0e8-7b14bd02fd88",
   "metadata": {},
   "source": [
    "# Bruin Bus\n",
    "This is meant to be ran at the end of the day to collect data on bus delays from the UCLA Bruin Bus. The code uses webscraping to convert HMTL tables into a pandas dataframe and then saes those dataframes as CSVs."
   ]
  },
  {
   "cell_type": "code",
   "execution_count": 5,
   "id": "30161217-5246-440c-8f34-f0611a9ca279",
   "metadata": {},
   "outputs": [
    {
     "name": "stdout",
     "output_type": "stream",
     "text": [
      "<!DOCTYPE html>\n",
      "\n",
      "<html>\n",
      "<head>\n",
      "<meta content=\"text/html; charset=utf-8\" http-equiv=\"content-type\"/>\n",
      "<meta content=\"width=device-width, initial-scale=1\" name=\"viewport\"/>\n",
      "<meta content=\"true\" name=\"ts:public\">\n",
      "<title>TripShot</title>\n",
      "<link href=\"images/favicon.png\" rel=\"icon\" type=\"image/png\"/>\n",
      "<link href=\"font-awesome-4.7.0/css/font-awesome.min.css\" rel=\"stylesheet\"/>\n",
      "<link href=\"material-icons-3.0.1/css/material-icons.css\" rel=\"stylesheet\"/>\n",
      "<script src=\"https://maps.googleapis.com/maps/api/js?v=3.43&amp;client=gme-exavolveinc&amp;libraries=drawing,geometry,places\"></script>\n",
      "<script src=\"markermanager/markermanager_packed.js\"></script>\n",
      "<script src=\"rison/rison_min.js\"></script>\n",
      "</meta></head>\n",
      "<body>\n",
      "<iframe id=\"__gwt_historyFrame\" src=\"javascript:''\" style=\"width:0;height:0;border:0\" tabindex=\"-1\"></iframe>\n",
      "<script language=\"javascript\" src=\"tms.nocache.js\" type=\"text/javascript\"></script>\n",
      "<form enctype=\"application/x-www-form-urlencoded\" id=\"escapePod\" method=\"POST\" style=\"display:none\"></form>\n",
      "</body>\n",
      "</html>\n",
      "\n"
     ]
    }
   ],
   "source": [
    "import os\n",
    "import sys\n",
    "import pandas as pd\n",
    "import requests\n",
    "from bs4 import BeautifulSoup\n",
    "\n",
    "#to add list of U1-U5 to path variable\n",
    "path = \"https://uclabruinbus.tripshot.com/g/tms/Public.html#RoutesStopOnRidePlace:%7B%22regionId%22:%22CA558DDC-D7F2-4B48-9CAC-DEEA1134F820%22,%20%22key%22:%7B%22rideId%22:%22D771645B-A616-4182-B285-F80B8B1E55D3:2023-05-10%22,%20%22stopId%22:%22E0A4B7FF-E56C-46E1-9C14-74002B1EBE9A%22,%20%22scheduledDepartureTime%22:%2210:00:00%22%7D,%20%22noNav%22:false%7D\"\n",
    "html_text = requests.get(path).text\n",
    "soup = BeautifulSoup(html_text,'html.parser')\n",
    "print(soup)"
   ]
  },
  {
   "cell_type": "markdown",
   "id": "f55a7503-b54f-4953-90ae-101fa0a0cb9e",
   "metadata": {},
   "source": [
    "The code runs as follows, first we arrive at the webpage containing the table of departure times and stops for U1 through U5. We scrape the href url from the from the class=\"gwt-Anchor DWQU4QB-sb-a\" in the html code. We take the gathered href URLs, run a loop and webscrape their schedule departure an actual departure."
   ]
  },
  {
   "cell_type": "code",
   "execution_count": null,
   "id": "8370d9b7-c720-4f1f-9bbe-8cb5d3126bcc",
   "metadata": {},
   "outputs": [],
   "source": []
  }
 ],
 "metadata": {
  "kernelspec": {
   "display_name": "Python 3 (ipykernel)",
   "language": "python",
   "name": "python3"
  },
  "language_info": {
   "codemirror_mode": {
    "name": "ipython",
    "version": 3
   },
   "file_extension": ".py",
   "mimetype": "text/x-python",
   "name": "python",
   "nbconvert_exporter": "python",
   "pygments_lexer": "ipython3",
   "version": "3.10.9"
  }
 },
 "nbformat": 4,
 "nbformat_minor": 5
}
