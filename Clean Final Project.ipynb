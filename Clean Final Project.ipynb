{
 "cells": [
  {
   "cell_type": "code",
   "execution_count": 155,
   "id": "a0977d55-fae7-465f-b840-c36492be279a",
   "metadata": {},
   "outputs": [],
   "source": [
    "import geopandas as gpd\n",
    "import pandas as pd\n",
    "from shapely.geometry import Point\n",
    "from shapely.ops import nearest_points\n",
    "import osmnx as ox\n",
    "import numpy as np"
   ]
  },
  {
   "cell_type": "code",
   "execution_count": 156,
   "id": "f16ec068-f5d4-4502-8833-262f808431ca",
   "metadata": {},
   "outputs": [],
   "source": [
    "#Bring in Scooter data  \n",
    "\n",
    "### NOTE TO SELF, UDPATE CODE TO HAVE TOTALS, MORNING, AFTERNOON, AND NIGHT NUBMERS\n",
    "scooters230510 = pd.read_csv('Data/Scooters 2023-05-10.csv')\n",
    "\n",
    "scootergdf = gpd.GeoDataFrame(\n",
    "    scooters230510, geometry=gpd.points_from_xy(scooters230510.longitude,scooters230510.latitude, \n",
    "                                          crs='EPSG:4326'))\n",
    "\n",
    "filtered_scooterdf = scootergdf[scootergdf['type'] == 'electric-scooter']"
   ]
  },
  {
   "cell_type": "code",
   "execution_count": 173,
   "id": "151c47e3-44b0-4622-92ff-b16bf4a5a012",
   "metadata": {},
   "outputs": [],
   "source": [
    "#Select relavent building data columns\n",
    "address = 'University of California, Los Angeles'\n",
    "osm = ox.geometries_from_address(address,tags={'building':True},dist=1000)\n",
    "columns_to_keep = ['geometry','building','height','name','addr:street','amenity','building:units','ele','sport','leisure']\n",
    "osm = osm[columns_to_keep]"
   ]
  },
  {
   "cell_type": "code",
   "execution_count": 174,
   "id": "6e9d7457-6b91-4f43-98e2-28dd3b172265",
   "metadata": {},
   "outputs": [
    {
     "name": "stderr",
     "output_type": "stream",
     "text": [
      "C:\\Users\\Matucoco\\UP_anaconda3\\lib\\site-packages\\IPython\\core\\interactiveshell.py:3400: FutureWarning: The `op` parameter is deprecated and will be removed in a future release. Please use the `predicate` parameter instead.\n",
      "  if await self.run_code(code, result, async_=asy):\n"
     ]
    }
   ],
   "source": [
    "# Set the geometry column explicitly for the filtered_scooterdf GeoDataFrame\n",
    "filtered_scooterdf = filtered_scooterdf.set_geometry(\"geometry\")\n",
    "\n",
    "# Perform a spatial join between the datasets\n",
    "joined = gpd.sjoin(filtered_scooterdf, osm, how=\"inner\", op=\"intersects\")\n",
    "\n",
    "# Calculate distances using pandas\n",
    "joined[\"distance\"] = joined.apply(\n",
    "    lambda row: row[\"geometry\"].distance(row[\"geometry\"]), axis=1\n",
    ")\n",
    "\n",
    "# Determine proximity threshold \n",
    "proximity_threshold = 6  # about 20 feet converted to meters\n",
    "\n",
    "# Count e-scooters near buildings\n",
    "scooters_near_buildings = joined[joined[\"distance\"] <= proximity_threshold].groupby(\"name\")[\"id\"].count()"
   ]
  },
  {
   "cell_type": "code",
   "execution_count": 159,
   "id": "fa975716-d3d5-4efd-8bcf-d91f342d5b02",
   "metadata": {},
   "outputs": [
    {
     "name": "stdout",
     "output_type": "stream",
     "text": [
      "name\n",
      "Ackerman Union                            182\n",
      "Ahmanson-Lovelace Brain Mapping Center      1\n",
      "Alpha Gamma Delta                           2\n",
      "Atrium Apartments                           7\n",
      "Boelter Hall                              700\n",
      "                                         ... \n",
      "UCLA School of Dentistry                  256\n",
      "Ueberroth Building                          4\n",
      "Wasserman Football Center                  23\n",
      "Wooden West                                 5\n",
      "Zeta Beta Theta                             2\n",
      "Name: id, Length: 103, dtype: int64\n"
     ]
    }
   ],
   "source": [
    "# Analyze the counts\n",
    "print(scooters_near_buildings)"
   ]
  },
  {
   "cell_type": "code",
   "execution_count": 176,
   "id": "bcc9f810-ce0e-4798-991e-1a4122757fd1",
   "metadata": {},
   "outputs": [
    {
     "data": {
      "text/html": [
       "<div>\n",
       "<style scoped>\n",
       "    .dataframe tbody tr th:only-of-type {\n",
       "        vertical-align: middle;\n",
       "    }\n",
       "\n",
       "    .dataframe tbody tr th {\n",
       "        vertical-align: top;\n",
       "    }\n",
       "\n",
       "    .dataframe thead th {\n",
       "        text-align: right;\n",
       "    }\n",
       "</style>\n",
       "<table border=\"1\" class=\"dataframe\">\n",
       "  <thead>\n",
       "    <tr style=\"text-align: right;\">\n",
       "      <th></th>\n",
       "      <th>geometry</th>\n",
       "      <th>building</th>\n",
       "      <th>height</th>\n",
       "      <th>name</th>\n",
       "      <th>addr:street</th>\n",
       "      <th>amenity</th>\n",
       "      <th>building:units</th>\n",
       "      <th>ele</th>\n",
       "      <th>sport</th>\n",
       "      <th>leisure</th>\n",
       "      <th>Scooter_Count</th>\n",
       "    </tr>\n",
       "  </thead>\n",
       "  <tbody>\n",
       "    <tr>\n",
       "      <th>0</th>\n",
       "      <td>POLYGON ((-118.44313 34.07350, -118.44309 34.0...</td>\n",
       "      <td>yes</td>\n",
       "      <td>NaN</td>\n",
       "      <td>Parking 5</td>\n",
       "      <td>NaN</td>\n",
       "      <td>parking</td>\n",
       "      <td>NaN</td>\n",
       "      <td>NaN</td>\n",
       "      <td>NaN</td>\n",
       "      <td>NaN</td>\n",
       "      <td>37</td>\n",
       "    </tr>\n",
       "    <tr>\n",
       "      <th>1</th>\n",
       "      <td>POLYGON ((-118.44493 34.06641, -118.44493 34.0...</td>\n",
       "      <td>yes</td>\n",
       "      <td>NaN</td>\n",
       "      <td>Reed Neurological Research Center</td>\n",
       "      <td>Westwood Plaza</td>\n",
       "      <td>research_institute</td>\n",
       "      <td>NaN</td>\n",
       "      <td>NaN</td>\n",
       "      <td>NaN</td>\n",
       "      <td>NaN</td>\n",
       "      <td>28</td>\n",
       "    </tr>\n",
       "    <tr>\n",
       "      <th>2</th>\n",
       "      <td>POLYGON ((-118.44432 34.06605, -118.44432 34.0...</td>\n",
       "      <td>university</td>\n",
       "      <td>NaN</td>\n",
       "      <td>Semel Institute for Neuroscience and Human Beh...</td>\n",
       "      <td>Westwood Plaza</td>\n",
       "      <td>research_institute</td>\n",
       "      <td>NaN</td>\n",
       "      <td>NaN</td>\n",
       "      <td>NaN</td>\n",
       "      <td>NaN</td>\n",
       "      <td>2</td>\n",
       "    </tr>\n",
       "    <tr>\n",
       "      <th>3</th>\n",
       "      <td>POLYGON ((-118.44447 34.06958, -118.44450 34.0...</td>\n",
       "      <td>school</td>\n",
       "      <td>NaN</td>\n",
       "      <td>Engineering VI</td>\n",
       "      <td>Westwood Plaza</td>\n",
       "      <td>NaN</td>\n",
       "      <td>NaN</td>\n",
       "      <td>NaN</td>\n",
       "      <td>NaN</td>\n",
       "      <td>NaN</td>\n",
       "      <td>4</td>\n",
       "    </tr>\n",
       "    <tr>\n",
       "      <th>4</th>\n",
       "      <td>POLYGON ((-118.44189 34.06657, -118.44188 34.0...</td>\n",
       "      <td>university</td>\n",
       "      <td>NaN</td>\n",
       "      <td>Factor Health Sciences Building</td>\n",
       "      <td>Tiverton Avenue</td>\n",
       "      <td>NaN</td>\n",
       "      <td>NaN</td>\n",
       "      <td>NaN</td>\n",
       "      <td>NaN</td>\n",
       "      <td>NaN</td>\n",
       "      <td>26</td>\n",
       "    </tr>\n",
       "  </tbody>\n",
       "</table>\n",
       "</div>"
      ],
      "text/plain": [
       "                                            geometry    building height  \\\n",
       "0  POLYGON ((-118.44313 34.07350, -118.44309 34.0...         yes    NaN   \n",
       "1  POLYGON ((-118.44493 34.06641, -118.44493 34.0...         yes    NaN   \n",
       "2  POLYGON ((-118.44432 34.06605, -118.44432 34.0...  university    NaN   \n",
       "3  POLYGON ((-118.44447 34.06958, -118.44450 34.0...      school    NaN   \n",
       "4  POLYGON ((-118.44189 34.06657, -118.44188 34.0...  university    NaN   \n",
       "\n",
       "                                                name      addr:street  \\\n",
       "0                                          Parking 5              NaN   \n",
       "1                  Reed Neurological Research Center   Westwood Plaza   \n",
       "2  Semel Institute for Neuroscience and Human Beh...   Westwood Plaza   \n",
       "3                                     Engineering VI   Westwood Plaza   \n",
       "4                    Factor Health Sciences Building  Tiverton Avenue   \n",
       "\n",
       "              amenity building:units  ele sport leisure  Scooter_Count  \n",
       "0             parking            NaN  NaN   NaN     NaN             37  \n",
       "1  research_institute            NaN  NaN   NaN     NaN             28  \n",
       "2  research_institute            NaN  NaN   NaN     NaN              2  \n",
       "3                 NaN            NaN  NaN   NaN     NaN              4  \n",
       "4                 NaN            NaN  NaN   NaN     NaN             26  "
      ]
     },
     "execution_count": 176,
     "metadata": {},
     "output_type": "execute_result"
    }
   ],
   "source": [
    "# add total scooter counts back into building data\n",
    "building_scooter_count = osm.merge(scooters_near_buildings, on = 'name')\n",
    "building_scooter_count.columns = [*building_scooter_count.columns[:-1], 'Scooter_Count']\n",
    "building_scooter_count.head()"
   ]
  },
  {
   "cell_type": "code",
   "execution_count": 161,
   "id": "b8c75027-e2ed-4338-b0c5-31b513b27b43",
   "metadata": {},
   "outputs": [
    {
     "data": {
      "text/plain": [
       "building\n",
       "apartments      6\n",
       "auditorium      1\n",
       "dormitory       3\n",
       "hospital        2\n",
       "office          1\n",
       "residential     7\n",
       "retail          1\n",
       "school          1\n",
       "university     44\n",
       "yes            46\n",
       "dtype: int64"
      ]
     },
     "execution_count": 161,
     "metadata": {},
     "output_type": "execute_result"
    }
   ],
   "source": [
    "building_scooter_count.groupby('building').size()"
   ]
  },
  {
   "cell_type": "code",
   "execution_count": 162,
   "id": "d176c0cd-a7ee-4434-8922-bc622b1a049f",
   "metadata": {},
   "outputs": [
    {
     "name": "stderr",
     "output_type": "stream",
     "text": [
      "C:\\Users\\Matucoco\\AppData\\Local\\Temp\\ipykernel_8196\\2354837741.py:12: UserWarning: Geometry is in a geographic CRS. Results from 'centroid' are likely incorrect. Use 'GeoSeries.to_crs()' to re-project geometries to a projected CRS before this operation.\n",
      "\n",
      "  building_scooter_count[\"lat\"] = building_scooter_count.centroid.x\n",
      "C:\\Users\\Matucoco\\AppData\\Local\\Temp\\ipykernel_8196\\2354837741.py:13: UserWarning: Geometry is in a geographic CRS. Results from 'centroid' are likely incorrect. Use 'GeoSeries.to_crs()' to re-project geometries to a projected CRS before this operation.\n",
      "\n",
      "  building_scooter_count[\"long\"] = building_scooter_count.centroid.y\n"
     ]
    }
   ],
   "source": [
    "# add dummy and other variables for atributes we might find important\n",
    "building_scooter_count['has_parking'] = building_scooter_count['amenity'].apply(\n",
    "                        lambda x: True if x=='parking' else False)\n",
    "building_scooter_count['is_sport'] = building_scooter_count['leisure'].apply(\n",
    "                        lambda x: True if x=='sports_centre' or x=='sports_hall' or x=='stadium' else False)\n",
    "building_scooter_count['is_medical'] = building_scooter_count['amenity'].apply(\n",
    "                        lambda x: True if x=='clinic' or x=='hospital' else False)\n",
    "building_scooter_count['is_library'] = building_scooter_count['amenity'].apply(\n",
    "                        lambda x: True if x=='library' else False)\n",
    "building_scooter_count['is_dorm'] = building_scooter_count['building'].apply(\n",
    "                        lambda x: True if x=='dormitory' else False)\n",
    "building_scooter_count[\"lat\"] = building_scooter_count.centroid.x\n",
    "building_scooter_count[\"long\"] = building_scooter_count.centroid.y\n",
    "\n",
    "building_scooter_count[['height','building:units','ele']] = building_scooter_count[['height','building:units','ele']].fillna(-999)"
   ]
  },
  {
   "cell_type": "code",
   "execution_count": 163,
   "id": "4b08de39-f266-4f3d-947d-5985b20a4351",
   "metadata": {},
   "outputs": [],
   "source": [
    "#Train our Random Forest model to predict number of scooters\n",
    "from sklearn.model_selection import train_test_split\n",
    "from sklearn.ensemble import RandomForestRegressor\n",
    "\n",
    "xvars = (['has_parking','is_sport','is_medical','is_library','is_dorm','lat','long','height','building:units','ele'])\n",
    "yvar = 'Scooter_Count'\n",
    "df_to_fit = building_scooter_count[xvars+[yvar]]#.dropna()\n",
    "\n",
    "X_train, X_test, y_train, y_test = train_test_split(\n",
    "    df_to_fit[xvars], df_to_fit[yvar], test_size = 0.25, random_state = 1)"
   ]
  },
  {
   "cell_type": "code",
   "execution_count": 164,
   "id": "da65cd2c-ee53-4298-8023-7e269b1a2edb",
   "metadata": {},
   "outputs": [
    {
     "data": {
      "text/html": [
       "<style>#sk-container-id-17 {color: black;background-color: white;}#sk-container-id-17 pre{padding: 0;}#sk-container-id-17 div.sk-toggleable {background-color: white;}#sk-container-id-17 label.sk-toggleable__label {cursor: pointer;display: block;width: 100%;margin-bottom: 0;padding: 0.3em;box-sizing: border-box;text-align: center;}#sk-container-id-17 label.sk-toggleable__label-arrow:before {content: \"▸\";float: left;margin-right: 0.25em;color: #696969;}#sk-container-id-17 label.sk-toggleable__label-arrow:hover:before {color: black;}#sk-container-id-17 div.sk-estimator:hover label.sk-toggleable__label-arrow:before {color: black;}#sk-container-id-17 div.sk-toggleable__content {max-height: 0;max-width: 0;overflow: hidden;text-align: left;background-color: #f0f8ff;}#sk-container-id-17 div.sk-toggleable__content pre {margin: 0.2em;color: black;border-radius: 0.25em;background-color: #f0f8ff;}#sk-container-id-17 input.sk-toggleable__control:checked~div.sk-toggleable__content {max-height: 200px;max-width: 100%;overflow: auto;}#sk-container-id-17 input.sk-toggleable__control:checked~label.sk-toggleable__label-arrow:before {content: \"▾\";}#sk-container-id-17 div.sk-estimator input.sk-toggleable__control:checked~label.sk-toggleable__label {background-color: #d4ebff;}#sk-container-id-17 div.sk-label input.sk-toggleable__control:checked~label.sk-toggleable__label {background-color: #d4ebff;}#sk-container-id-17 input.sk-hidden--visually {border: 0;clip: rect(1px 1px 1px 1px);clip: rect(1px, 1px, 1px, 1px);height: 1px;margin: -1px;overflow: hidden;padding: 0;position: absolute;width: 1px;}#sk-container-id-17 div.sk-estimator {font-family: monospace;background-color: #f0f8ff;border: 1px dotted black;border-radius: 0.25em;box-sizing: border-box;margin-bottom: 0.5em;}#sk-container-id-17 div.sk-estimator:hover {background-color: #d4ebff;}#sk-container-id-17 div.sk-parallel-item::after {content: \"\";width: 100%;border-bottom: 1px solid gray;flex-grow: 1;}#sk-container-id-17 div.sk-label:hover label.sk-toggleable__label {background-color: #d4ebff;}#sk-container-id-17 div.sk-serial::before {content: \"\";position: absolute;border-left: 1px solid gray;box-sizing: border-box;top: 0;bottom: 0;left: 50%;z-index: 0;}#sk-container-id-17 div.sk-serial {display: flex;flex-direction: column;align-items: center;background-color: white;padding-right: 0.2em;padding-left: 0.2em;position: relative;}#sk-container-id-17 div.sk-item {position: relative;z-index: 1;}#sk-container-id-17 div.sk-parallel {display: flex;align-items: stretch;justify-content: center;background-color: white;position: relative;}#sk-container-id-17 div.sk-item::before, #sk-container-id-17 div.sk-parallel-item::before {content: \"\";position: absolute;border-left: 1px solid gray;box-sizing: border-box;top: 0;bottom: 0;left: 50%;z-index: -1;}#sk-container-id-17 div.sk-parallel-item {display: flex;flex-direction: column;z-index: 1;position: relative;background-color: white;}#sk-container-id-17 div.sk-parallel-item:first-child::after {align-self: flex-end;width: 50%;}#sk-container-id-17 div.sk-parallel-item:last-child::after {align-self: flex-start;width: 50%;}#sk-container-id-17 div.sk-parallel-item:only-child::after {width: 0;}#sk-container-id-17 div.sk-dashed-wrapped {border: 1px dashed gray;margin: 0 0.4em 0.5em 0.4em;box-sizing: border-box;padding-bottom: 0.4em;background-color: white;}#sk-container-id-17 div.sk-label label {font-family: monospace;font-weight: bold;display: inline-block;line-height: 1.2em;}#sk-container-id-17 div.sk-label-container {text-align: center;}#sk-container-id-17 div.sk-container {/* jupyter's `normalize.less` sets `[hidden] { display: none; }` but bootstrap.min.css set `[hidden] { display: none !important; }` so we also need the `!important` here to be able to override the default hidden behavior on the sphinx rendered scikit-learn.org. See: https://github.com/scikit-learn/scikit-learn/issues/21755 */display: inline-block !important;position: relative;}#sk-container-id-17 div.sk-text-repr-fallback {display: none;}</style><div id=\"sk-container-id-17\" class=\"sk-top-container\"><div class=\"sk-text-repr-fallback\"><pre>RandomForestRegressor(n_estimators=200, n_jobs=1, random_state=1)</pre><b>In a Jupyter environment, please rerun this cell to show the HTML representation or trust the notebook. <br />On GitHub, the HTML representation is unable to render, please try loading this page with nbviewer.org.</b></div><div class=\"sk-container\" hidden><div class=\"sk-item\"><div class=\"sk-estimator sk-toggleable\"><input class=\"sk-toggleable__control sk-hidden--visually\" id=\"sk-estimator-id-17\" type=\"checkbox\" checked><label for=\"sk-estimator-id-17\" class=\"sk-toggleable__label sk-toggleable__label-arrow\">RandomForestRegressor</label><div class=\"sk-toggleable__content\"><pre>RandomForestRegressor(n_estimators=200, n_jobs=1, random_state=1)</pre></div></div></div></div></div>"
      ],
      "text/plain": [
       "RandomForestRegressor(n_estimators=200, n_jobs=1, random_state=1)"
      ]
     },
     "execution_count": 164,
     "metadata": {},
     "output_type": "execute_result"
    }
   ],
   "source": [
    "rf = RandomForestRegressor(n_estimators = 200, random_state = 1, n_jobs=1)\n",
    "rf.fit(X_train, y_train)"
   ]
  },
  {
   "cell_type": "code",
   "execution_count": 165,
   "id": "953c4df5-3558-492d-8d24-deb69b979420",
   "metadata": {},
   "outputs": [
    {
     "name": "stdout",
     "output_type": "stream",
     "text": [
      "Predicted Mean Scooters: 47.3595. Actual Mean Scooters: 38.1429\n"
     ]
    }
   ],
   "source": [
    "#How good is our prediction?\n",
    "y_pred = rf.predict(X_test)\n",
    "\n",
    "print('Predicted Mean Scooters: {:.4f}. Actual Mean Scooters: {:.4f}'.format(\n",
    "    y_pred.mean(), y_test.mean()))"
   ]
  },
  {
   "cell_type": "code",
   "execution_count": 167,
   "id": "5c79736f-be44-4eec-af45-f6774927db8b",
   "metadata": {},
   "outputs": [
    {
     "data": {
      "text/plain": [
       "Text(0, 0.5, 'Mean decrease in impurity')"
      ]
     },
     "execution_count": 167,
     "metadata": {},
     "output_type": "execute_result"
    },
    {
     "data": {
      "image/png": "[encoded data removed]",
      "text/plain": [
       "<Figure size 400x400 with 1 Axes>"
      ]
     },
     "metadata": {},
     "output_type": "display_data"
    }
   ],
   "source": [
    "#What atributes are most important in predicting scooter counts?\n",
    "import matplotlib.pyplot as plt\n",
    "import seaborn as sns\n",
    "importances = rf.feature_importances_\n",
    "\n",
    "forest_importances = pd.Series(importances, index=X_train.columns)\n",
    "\n",
    "std = np.std([tree.feature_importances_ for tree in rf.estimators_], axis=0)\n",
    "\n",
    "forest_importances.sort_values(inplace=True, ascending=False)\n",
    "\n",
    "fig, ax = plt.subplots(figsize=(4,4))\n",
    "sns.barplot(x=forest_importances.values, y=forest_importances.index, ax=ax)\n",
    "ax.set_title(\"Feature importances\")\n",
    "ax.set_ylabel(\"Mean decrease in impurity\")"
   ]
  },
  {
   "cell_type": "code",
   "execution_count": 168,
   "id": "8b1bc7bf-4497-4c95-945d-cd022e4f8dc1",
   "metadata": {},
   "outputs": [],
   "source": [
    "#lets take all our predicted scooter counts and add them to our building data to plot and see where our model is most accurate\n",
    "all_predict = rf.predict(pd.concat([X_test,X_train]))\n",
    "predictions = pd.DataFrame(all_predict, \n",
    "                           columns = ['Predicted_Scooters'])\n",
    "building_p_scooter_count = building_scooter_count.join(predictions)\n"
   ]
  },
  {
   "cell_type": "code",
   "execution_count": 169,
   "id": "6d7a8347-445c-4f42-8664-4b7861de229b",
   "metadata": {},
   "outputs": [],
   "source": [
    "#Find the percent error for predicted scooter amounts and plot\n",
    "building_p_scooter_count['Percent_Error'] = ((building_p_scooter_count['Predicted_Scooters']-building_p_scooter_count['Scooter_Count'])/building_p_scooter_count['Scooter_Count'])*100"
   ]
  },
  {
   "cell_type": "code",
   "execution_count": 170,
   "id": "1079c66b-3381-43a1-b8c2-1aee85a87e96",
   "metadata": {},
   "outputs": [
    {
     "data": {
      "text/html": [
       "<div>\n",
       "<style scoped>\n",
       "    .dataframe tbody tr th:only-of-type {\n",
       "        vertical-align: middle;\n",
       "    }\n",
       "\n",
       "    .dataframe tbody tr th {\n",
       "        vertical-align: top;\n",
       "    }\n",
       "\n",
       "    .dataframe thead th {\n",
       "        text-align: right;\n",
       "    }\n",
       "</style>\n",
       "<table border=\"1\" class=\"dataframe\">\n",
       "  <thead>\n",
       "    <tr style=\"text-align: right;\">\n",
       "      <th></th>\n",
       "      <th>geometry</th>\n",
       "      <th>building</th>\n",
       "      <th>height</th>\n",
       "      <th>name</th>\n",
       "      <th>addr:street</th>\n",
       "      <th>amenity</th>\n",
       "      <th>building:units</th>\n",
       "      <th>ele</th>\n",
       "      <th>sport</th>\n",
       "      <th>leisure</th>\n",
       "      <th>Scooter_Count</th>\n",
       "      <th>has_parking</th>\n",
       "      <th>is_sport</th>\n",
       "      <th>is_medical</th>\n",
       "      <th>is_library</th>\n",
       "      <th>is_dorm</th>\n",
       "      <th>lat</th>\n",
       "      <th>long</th>\n",
       "      <th>Predicted_Scooters</th>\n",
       "      <th>Percent_Error</th>\n",
       "    </tr>\n",
       "  </thead>\n",
       "  <tbody>\n",
       "    <tr>\n",
       "      <th>0</th>\n",
       "      <td>POLYGON ((-118.44313 34.07350, -118.44309 34.0...</td>\n",
       "      <td>yes</td>\n",
       "      <td>-999</td>\n",
       "      <td>Parking 5</td>\n",
       "      <td>NaN</td>\n",
       "      <td>parking</td>\n",
       "      <td>-999</td>\n",
       "      <td>-999</td>\n",
       "      <td>NaN</td>\n",
       "      <td>NaN</td>\n",
       "      <td>37</td>\n",
       "      <td>True</td>\n",
       "      <td>False</td>\n",
       "      <td>False</td>\n",
       "      <td>False</td>\n",
       "      <td>False</td>\n",
       "      <td>-118.442900</td>\n",
       "      <td>34.074167</td>\n",
       "      <td>25.245</td>\n",
       "      <td>-31.770270</td>\n",
       "    </tr>\n",
       "    <tr>\n",
       "      <th>1</th>\n",
       "      <td>POLYGON ((-118.44493 34.06641, -118.44493 34.0...</td>\n",
       "      <td>yes</td>\n",
       "      <td>-999</td>\n",
       "      <td>Reed Neurological Research Center</td>\n",
       "      <td>Westwood Plaza</td>\n",
       "      <td>research_institute</td>\n",
       "      <td>-999</td>\n",
       "      <td>-999</td>\n",
       "      <td>NaN</td>\n",
       "      <td>NaN</td>\n",
       "      <td>28</td>\n",
       "      <td>False</td>\n",
       "      <td>False</td>\n",
       "      <td>False</td>\n",
       "      <td>False</td>\n",
       "      <td>False</td>\n",
       "      <td>-118.444805</td>\n",
       "      <td>34.066222</td>\n",
       "      <td>37.535</td>\n",
       "      <td>34.053571</td>\n",
       "    </tr>\n",
       "    <tr>\n",
       "      <th>2</th>\n",
       "      <td>POLYGON ((-118.44432 34.06605, -118.44432 34.0...</td>\n",
       "      <td>university</td>\n",
       "      <td>-999</td>\n",
       "      <td>Semel Institute for Neuroscience and Human Beh...</td>\n",
       "      <td>Westwood Plaza</td>\n",
       "      <td>research_institute</td>\n",
       "      <td>-999</td>\n",
       "      <td>-999</td>\n",
       "      <td>NaN</td>\n",
       "      <td>NaN</td>\n",
       "      <td>2</td>\n",
       "      <td>False</td>\n",
       "      <td>False</td>\n",
       "      <td>False</td>\n",
       "      <td>False</td>\n",
       "      <td>False</td>\n",
       "      <td>-118.444563</td>\n",
       "      <td>34.065784</td>\n",
       "      <td>78.280</td>\n",
       "      <td>3814.000000</td>\n",
       "    </tr>\n",
       "    <tr>\n",
       "      <th>3</th>\n",
       "      <td>POLYGON ((-118.44447 34.06958, -118.44450 34.0...</td>\n",
       "      <td>school</td>\n",
       "      <td>-999</td>\n",
       "      <td>Engineering VI</td>\n",
       "      <td>Westwood Plaza</td>\n",
       "      <td>NaN</td>\n",
       "      <td>-999</td>\n",
       "      <td>-999</td>\n",
       "      <td>NaN</td>\n",
       "      <td>NaN</td>\n",
       "      <td>4</td>\n",
       "      <td>False</td>\n",
       "      <td>False</td>\n",
       "      <td>False</td>\n",
       "      <td>False</td>\n",
       "      <td>False</td>\n",
       "      <td>-118.444347</td>\n",
       "      <td>34.069462</td>\n",
       "      <td>42.520</td>\n",
       "      <td>963.000000</td>\n",
       "    </tr>\n",
       "    <tr>\n",
       "      <th>4</th>\n",
       "      <td>POLYGON ((-118.44189 34.06657, -118.44188 34.0...</td>\n",
       "      <td>university</td>\n",
       "      <td>-999</td>\n",
       "      <td>Factor Health Sciences Building</td>\n",
       "      <td>Tiverton Avenue</td>\n",
       "      <td>NaN</td>\n",
       "      <td>-999</td>\n",
       "      <td>-999</td>\n",
       "      <td>NaN</td>\n",
       "      <td>NaN</td>\n",
       "      <td>26</td>\n",
       "      <td>False</td>\n",
       "      <td>False</td>\n",
       "      <td>False</td>\n",
       "      <td>False</td>\n",
       "      <td>False</td>\n",
       "      <td>-118.442011</td>\n",
       "      <td>34.066752</td>\n",
       "      <td>31.345</td>\n",
       "      <td>20.557692</td>\n",
       "    </tr>\n",
       "  </tbody>\n",
       "</table>\n",
       "</div>"
      ],
      "text/plain": [
       "                                            geometry    building height  \\\n",
       "0  POLYGON ((-118.44313 34.07350, -118.44309 34.0...         yes   -999   \n",
       "1  POLYGON ((-118.44493 34.06641, -118.44493 34.0...         yes   -999   \n",
       "2  POLYGON ((-118.44432 34.06605, -118.44432 34.0...  university   -999   \n",
       "3  POLYGON ((-118.44447 34.06958, -118.44450 34.0...      school   -999   \n",
       "4  POLYGON ((-118.44189 34.06657, -118.44188 34.0...  university   -999   \n",
       "\n",
       "                                                name      addr:street  \\\n",
       "0                                          Parking 5              NaN   \n",
       "1                  Reed Neurological Research Center   Westwood Plaza   \n",
       "2  Semel Institute for Neuroscience and Human Beh...   Westwood Plaza   \n",
       "3                                     Engineering VI   Westwood Plaza   \n",
       "4                    Factor Health Sciences Building  Tiverton Avenue   \n",
       "\n",
       "              amenity building:units   ele sport leisure  Scooter_Count  \\\n",
       "0             parking           -999  -999   NaN     NaN             37   \n",
       "1  research_institute           -999  -999   NaN     NaN             28   \n",
       "2  research_institute           -999  -999   NaN     NaN              2   \n",
       "3                 NaN           -999  -999   NaN     NaN              4   \n",
       "4                 NaN           -999  -999   NaN     NaN             26   \n",
       "\n",
       "   has_parking  is_sport  is_medical  is_library  is_dorm         lat  \\\n",
       "0         True     False       False       False    False -118.442900   \n",
       "1        False     False       False       False    False -118.444805   \n",
       "2        False     False       False       False    False -118.444563   \n",
       "3        False     False       False       False    False -118.444347   \n",
       "4        False     False       False       False    False -118.442011   \n",
       "\n",
       "        long  Predicted_Scooters  Percent_Error  \n",
       "0  34.074167              25.245     -31.770270  \n",
       "1  34.066222              37.535      34.053571  \n",
       "2  34.065784              78.280    3814.000000  \n",
       "3  34.069462              42.520     963.000000  \n",
       "4  34.066752              31.345      20.557692  "
      ]
     },
     "execution_count": 170,
     "metadata": {},
     "output_type": "execute_result"
    }
   ],
   "source": [
    "building_p_scooter_count.head()"
   ]
  },
  {
   "cell_type": "code",
   "execution_count": 171,
   "id": "d5ee82af-2fc2-4a3c-9799-71010efe73f7",
   "metadata": {},
   "outputs": [
    {
     "data": {
      "image/png": "[encoded data removed]",
      "text/plain": [
       "<Figure size 1000x1000 with 2 Axes>"
      ]
     },
     "metadata": {},
     "output_type": "display_data"
    }
   ],
   "source": [
    "import contextily  as ctx\n",
    "\n",
    "fig, ax = plt.subplots(figsize=(10, 10))\n",
    "building_p_scooter_count.plot(column='Percent_Error', ax=ax, cmap = 'coolwarm', legend = True, vmax = 100, vmin= -100)\n",
    "ax.set_axis_off()\n",
    "#ctx.add_basemap(ax)\n",
    "ax.set_title(\"Percent Error of Predicted vs Actual Scooter\")\n",
    "plt.draw()"
   ]
  },
  {
   "cell_type": "code",
   "execution_count": null,
   "id": "11174ca9-7b92-469d-a18b-e7bb8daa5e68",
   "metadata": {},
   "outputs": [],
   "source": [
    "### NOTE TO SELF ADD CODE FOR CLUSTERING BASED ON LAT AND LONG ###"
   ]
  },
  {
   "cell_type": "code",
   "execution_count": null,
   "id": "f7d08610-26b8-4167-99b3-96f2d5993a79",
   "metadata": {},
   "outputs": [],
   "source": [
    "### REPEAT FOR BUS LOCATIONS? ###"
   ]
  }
 ],
 "metadata": {
  "kernelspec": {
   "display_name": "Python 3 (ipykernel)",
   "language": "python",
   "name": "python3"
  },
  "language_info": {
   "codemirror_mode": {
    "name": "ipython",
    "version": 3
   },
   "file_extension": ".py",
   "mimetype": "text/x-python",
   "name": "python",
   "nbconvert_exporter": "python",
   "pygments_lexer": "ipython3",
   "version": "3.10.9"
  }
 },
 "nbformat": 4,
 "nbformat_minor": 5
}
