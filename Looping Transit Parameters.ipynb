{
 "cells": [
  {
   "cell_type": "markdown",
   "id": "dc8985bc-df04-4e0a-af5b-4c3b6a308534",
   "metadata": {},
   "source": [
    "### Looping Code for Transit App Parameters "
   ]
  },
  {
   "cell_type": "code",
   "execution_count": 1,
   "id": "557f0f11-f12e-45fa-ac0f-f9bc8c1d96f6",
   "metadata": {},
   "outputs": [],
   "source": [
    "import pandas as pd\n",
    "import time\n",
    "import datetime as dt\n",
    "import geopandas as gpd\n",
    "import requests\n",
    "import json"
   ]
  },
  {
   "cell_type": "code",
   "execution_count": null,
   "id": "92204ce9-2a02-4d74-9270-8b2654ce604b",
   "metadata": {},
   "outputs": [
    {
     "name": "stdout",
     "output_type": "stream",
     "text": [
      "getting ready to start\n"
     ]
    },
    {
     "name": "stderr",
     "output_type": "stream",
     "text": [
      "/var/folders/55/fpd2526d1bg4y9js_typcfb80000gn/T/ipykernel_61613/3686931708.py:24: FutureWarning: The frame.append method is deprecated and will be removed from pandas in a future version. Use pandas.concat instead.\n",
      "  df_scooter_data = df_scooter_data.append(df_scooter_data_new)\n"
     ]
    },
    {
     "name": "stdout",
     "output_type": "stream",
     "text": [
      "                title                                    id networkName  \\\n",
      "0        Link Scooter  9829c5aa-bed8-49fc-902e-489d16eaf677        LINK   \n",
      "1        Link Scooter  808f4162-124f-48cc-a026-f17f61c2dcad        LINK   \n",
      "2        Link Scooter  688ad54a-72e5-43d2-ad6f-690fac0c02ae        LINK   \n",
      "3        Link Scooter  b7cc8424-a9d2-4fe7-ba70-859639d39584        LINK   \n",
      "4        Link Scooter  4ebce197-e15b-4172-9ffb-5da6bf7ecdea        LINK   \n",
      "..                ...                                   ...         ...   \n",
      "416  Electric scooter  980b2392-8301-4685-8f82-7856d8bc33f6        Bird   \n",
      "417  Electric scooter  36906956-e558-4083-8b6c-6b56fe2fe820        Bird   \n",
      "418  Electric scooter  3f219efa-ddce-4feb-bc74-b2db2eba6232        Bird   \n",
      "419  Electric scooter  41e6cd91-2204-4a04-98ab-684f8b520aff        Bird   \n",
      "420  Electric scooter  6d3d90d5-a685-42c9-b006-4f892491694e        Bird   \n",
      "\n",
      "     networkId   color textColor   latitude   longitude              type  \\\n",
      "0         1319  E5FF01    07000E  34.063640 -118.443780  electric-scooter   \n",
      "1         1319  E5FF01    07000E  34.063800 -118.445180  electric-scooter   \n",
      "2         1319  E5FF01    07000E  34.069580 -118.438420  electric-scooter   \n",
      "3         1319  E5FF01    07000E  34.065600 -118.440020  electric-scooter   \n",
      "4         1319  E5FF01    07000E  34.066200 -118.447250  electric-scooter   \n",
      "..         ...     ...       ...        ...         ...               ...   \n",
      "416        676  333333    FFFFFF  34.072433 -118.439529  electric-scooter   \n",
      "417        676  333333    FFFFFF  34.075893 -118.454140  electric-scooter   \n",
      "418        676  333333    FFFFFF  34.069115 -118.443558  electric-scooter   \n",
      "419        676  333333    FFFFFF  34.074223 -118.439629  electric-scooter   \n",
      "420        676  333333    FFFFFF  34.073235 -118.436226  electric-scooter   \n",
      "\n",
      "    subtitle stationProperties  \n",
      "0        NaN               NaN  \n",
      "1        NaN               NaN  \n",
      "2        NaN               NaN  \n",
      "3        NaN               NaN  \n",
      "4        NaN               NaN  \n",
      "..       ...               ...  \n",
      "416      NaN               NaN  \n",
      "417      NaN               NaN  \n",
      "418      NaN               NaN  \n",
      "419      NaN               NaN  \n",
      "420      NaN               NaN  \n",
      "\n",
      "[421 rows x 11 columns]\n"
     ]
    },
    {
     "name": "stderr",
     "output_type": "stream",
     "text": [
      "/var/folders/55/fpd2526d1bg4y9js_typcfb80000gn/T/ipykernel_61613/3686931708.py:24: FutureWarning: The frame.append method is deprecated and will be removed from pandas in a future version. Use pandas.concat instead.\n",
      "  df_scooter_data = df_scooter_data.append(df_scooter_data_new)\n"
     ]
    },
    {
     "name": "stdout",
     "output_type": "stream",
     "text": [
      "                title                                    id networkName  \\\n",
      "0        Link Scooter  9829c5aa-bed8-49fc-902e-489d16eaf677        LINK   \n",
      "1        Link Scooter  808f4162-124f-48cc-a026-f17f61c2dcad        LINK   \n",
      "2        Link Scooter  688ad54a-72e5-43d2-ad6f-690fac0c02ae        LINK   \n",
      "3        Link Scooter  b7cc8424-a9d2-4fe7-ba70-859639d39584        LINK   \n",
      "4        Link Scooter  4ebce197-e15b-4172-9ffb-5da6bf7ecdea        LINK   \n",
      "..                ...                                   ...         ...   \n",
      "417  Electric scooter  ab2a8ae9-f8ea-441b-acbb-73ad6da82bda        Bird   \n",
      "418  Electric scooter  409203fc-505f-4157-b0a6-8ee0110c75d4        Bird   \n",
      "419  Electric scooter  d742ceda-4c72-49d3-8ac7-966e9d7a030e        Bird   \n",
      "420  Electric scooter  597179a7-d8f3-45cd-a09c-93b36fc7acb6        Bird   \n",
      "421  Electric scooter  7a8dfc90-1d44-48ca-91cb-4a3378d331b4        Bird   \n",
      "\n",
      "     networkId   color textColor   latitude   longitude              type  \\\n",
      "0         1319  E5FF01    07000E  34.063640 -118.443780  electric-scooter   \n",
      "1         1319  E5FF01    07000E  34.063800 -118.445180  electric-scooter   \n",
      "2         1319  E5FF01    07000E  34.069570 -118.438430  electric-scooter   \n",
      "3         1319  E5FF01    07000E  34.065600 -118.440020  electric-scooter   \n",
      "4         1319  E5FF01    07000E  34.066200 -118.447250  electric-scooter   \n",
      "..         ...     ...       ...        ...         ...               ...   \n",
      "417        676  333333    FFFFFF  34.072430 -118.439529  electric-scooter   \n",
      "418        676  333333    FFFFFF  34.075893 -118.454140  electric-scooter   \n",
      "419        676  333333    FFFFFF  34.069199 -118.443481  electric-scooter   \n",
      "420        676  333333    FFFFFF  34.074215 -118.439621  electric-scooter   \n",
      "421        676  333333    FFFFFF  34.073238 -118.436226  electric-scooter   \n",
      "\n",
      "    subtitle stationProperties  \n",
      "0        NaN               NaN  \n",
      "1        NaN               NaN  \n",
      "2        NaN               NaN  \n",
      "3        NaN               NaN  \n",
      "4        NaN               NaN  \n",
      "..       ...               ...  \n",
      "417      NaN               NaN  \n",
      "418      NaN               NaN  \n",
      "419      NaN               NaN  \n",
      "420      NaN               NaN  \n",
      "421      NaN               NaN  \n",
      "\n",
      "[422 rows x 11 columns]\n"
     ]
    },
    {
     "name": "stderr",
     "output_type": "stream",
     "text": [
      "/var/folders/55/fpd2526d1bg4y9js_typcfb80000gn/T/ipykernel_61613/3686931708.py:24: FutureWarning: The frame.append method is deprecated and will be removed from pandas in a future version. Use pandas.concat instead.\n",
      "  df_scooter_data = df_scooter_data.append(df_scooter_data_new)\n"
     ]
    },
    {
     "name": "stdout",
     "output_type": "stream",
     "text": [
      "                title                                    id networkName  \\\n",
      "0        Link Scooter  9829c5aa-bed8-49fc-902e-489d16eaf677        LINK   \n",
      "1        Link Scooter  808f4162-124f-48cc-a026-f17f61c2dcad        LINK   \n",
      "2        Link Scooter  688ad54a-72e5-43d2-ad6f-690fac0c02ae        LINK   \n",
      "3        Link Scooter  b7cc8424-a9d2-4fe7-ba70-859639d39584        LINK   \n",
      "4        Link Scooter  4ebce197-e15b-4172-9ffb-5da6bf7ecdea        LINK   \n",
      "..                ...                                   ...         ...   \n",
      "415  Electric scooter  a046b193-a8a7-4c26-9132-c640870314d3        Bird   \n",
      "416  Electric scooter  9462185b-f432-4d46-912f-57380ce515d0        Bird   \n",
      "417  Electric scooter  73afdccd-98fe-4c55-acd4-2cbef84d1782        Bird   \n",
      "418  Electric scooter  a35127b7-0c29-490f-b35c-efb38bf97cd8        Bird   \n",
      "419  Electric scooter  dc300164-d580-45ff-86ad-3c4816178bec        Bird   \n",
      "\n",
      "     networkId   color textColor   latitude   longitude              type  \\\n",
      "0         1319  E5FF01    07000E  34.063650 -118.443760  electric-scooter   \n",
      "1         1319  E5FF01    07000E  34.063800 -118.445180  electric-scooter   \n",
      "2         1319  E5FF01    07000E  34.069570 -118.438430  electric-scooter   \n",
      "3         1319  E5FF01    07000E  34.065600 -118.440020  electric-scooter   \n",
      "4         1319  E5FF01    07000E  34.066200 -118.447250  electric-scooter   \n",
      "..         ...     ...       ...        ...         ...               ...   \n",
      "415        676  333333    FFFFFF  34.072430 -118.439529  electric-scooter   \n",
      "416        676  333333    FFFFFF  34.075897 -118.454140  electric-scooter   \n",
      "417        676  333333    FFFFFF  34.069302 -118.443634  electric-scooter   \n",
      "418        676  333333    FFFFFF  34.074207 -118.439621  electric-scooter   \n",
      "419        676  333333    FFFFFF  34.073238 -118.436226  electric-scooter   \n",
      "\n",
      "    subtitle stationProperties  \n",
      "0        NaN               NaN  \n",
      "1        NaN               NaN  \n",
      "2        NaN               NaN  \n",
      "3        NaN               NaN  \n",
      "4        NaN               NaN  \n",
      "..       ...               ...  \n",
      "415      NaN               NaN  \n",
      "416      NaN               NaN  \n",
      "417      NaN               NaN  \n",
      "418      NaN               NaN  \n",
      "419      NaN               NaN  \n",
      "\n",
      "[420 rows x 11 columns]\n"
     ]
    }
   ],
   "source": [
    "while True:\n",
    "    if dt.datetime.now().hour < 20 or dt.datetime.now().hour > 7: #set hours of code looping, make sure the second value is less than the second value on the following if line\n",
    "        #some irrelevant function here\n",
    "        print('getting ready to start')\n",
    "        time.sleep(1) \n",
    "        \n",
    "        temp = {'col1': [1, 2], 'col2': [3, 4]} #delete this later\n",
    "                df_scooter_data_new = pd.DataFrame(data=temp) # replace with code for dataframe containing all the information on the \n",
    "                df_Stop_data_1_new = pd.DataFrame(data=temp)# replace with code for dataframe containing departure times for first transit stop, copy and past for however many stops we want to do\n",
    "                \n",
    "                df_scooter_data = df_scooter_data.append(df_scooter_data_new)\n",
    "                df_Stop_data_1 = df_Stop_data_1.append(df_Stop_data_1_new)\n",
    "        while True:\n",
    "            if dt.datetime.now().hour < 20 or dt.datetime.now().hour > 8: #set hours of code looping\n",
    "                \n",
    "                # put in code to retrieve from transit api\n",
    "                df_scooter_data = pd.DataFrame() \n",
    "\n",
    "                Endpoint = f\"https://external.transitapp.com/v3/map_layers/placemarks?lat=34.07236868760976&lon=-118.44423503764042&distance=1000&apiKey=6bb0ee84e4c5940b3c0dcd4e5c56247fc4907265dc5d5d37cbe74c6ab82952f9\"\n",
    "\n",
    "                headers = {'apiKey': '6bb0ee84e4c5940b3c0dcd4e5c56247fc4907265dc5d5d37cbe74c6ab82952f9'}\n",
    "\n",
    "                response = requests.get(Endpoint, headers=headers)\n",
    "\n",
    "                placemarks = response.json()[\"placemarks\"]\n",
    "\n",
    "                temp = {'col1': [1, 2], 'col2': [3, 4]} #delete this later\n",
    "                df_scooter_data_new = pd.DataFrame(placemarks) # replace with code for dataframe containing all the information on the \n",
    "               \n",
    "                df_scooter_data = df_scooter_data.append(df_scooter_data_new)\n",
    "                \n",
    "                print(df_scooter_data)\n",
    "    \n",
    "                time.sleep(600) #set time to repeat in seconds\n",
    "            else: \n",
    "                continue\n",
    "    else:\n",
    "        print(\"Not time yet\")\n",
    "        time.sleep(1)\n",
    "        continue\n",
    "        \n",
    "date = dt.date.today()\n",
    "scooter_file_name = f\"Scooters {date}\".format(date)\n",
    "Stop_1_file_name = f\"Stop 1 {date}\".format(date)\n",
    "\n",
    "df_scooter_data.to_csv(f\"Data/{scooter_file_name}.csv\".format(scooter_file_name))\n",
    "df_Stop_data_1.to_csv(f\"Data/{Stop_1_file_name}.csv\".format(Stop_1_file_name))                    "
   ]
  },
  {
   "cell_type": "code",
   "execution_count": null,
   "id": "97cb93e9-db0b-475c-8bc4-69481960cebf",
   "metadata": {},
   "outputs": [],
   "source": []
  }
 ],
 "metadata": {
  "kernelspec": {
   "display_name": "Python 3 (ipykernel)",
   "language": "python",
   "name": "python3"
  },
  "language_info": {
   "codemirror_mode": {
    "name": "ipython",
    "version": 3
   },
   "file_extension": ".py",
   "mimetype": "text/x-python",
   "name": "python",
   "nbconvert_exporter": "python",
   "pygments_lexer": "ipython3",
   "version": "3.9.16"
  }
 },
 "nbformat": 4,
 "nbformat_minor": 5
}
