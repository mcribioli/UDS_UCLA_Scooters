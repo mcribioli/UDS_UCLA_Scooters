{
 "cells": [
  {
   "cell_type": "markdown",
   "id": "b9852874-4cfe-4078-8e82-5d79de12c788",
   "metadata": {},
   "source": [
    "## Looping Code\n",
    "This code is meant to be implimented in conjunction with the code to ping the transit API. The goal of this code to ping the API every 10 minutes, taking that data frame and appending them to an existing dataframe, and saving it to a CSV."
   ]
  },
  {
   "cell_type": "code",
   "execution_count": 1,
   "id": "51f1acc5-06c0-47bd-96b4-15bb92653056",
   "metadata": {},
   "outputs": [],
   "source": [
    "import pandas as pd\n",
    "import time\n",
    "import datetime as dt\n",
    "import geopandas as gpd\n",
    "import requests\n",
    "import json"
   ]
  },
  {
   "cell_type": "code",
   "execution_count": null,
   "id": "88850d60-1675-4359-98a3-6aec4d22ac9c",
   "metadata": {},
   "outputs": [
    {
     "name": "stdout",
     "output_type": "stream",
     "text": [
      "getting ready to start\n"
     ]
    },
    {
     "name": "stderr",
     "output_type": "stream",
     "text": [
      "C:\\Users\\Matucoco\\AppData\\Local\\Temp\\ipykernel_13960\\209497950.py:21: FutureWarning: The frame.append method is deprecated and will be removed from pandas in a future version. Use pandas.concat instead.\n",
      "  df_scooter_data = df_scooter_data.append(df_scooter_data_new)\n",
      "C:\\Users\\Matucoco\\AppData\\Local\\Temp\\ipykernel_13960\\209497950.py:22: FutureWarning: The frame.append method is deprecated and will be removed from pandas in a future version. Use pandas.concat instead.\n",
      "  df_Stop_data_1 = df_Stop_data_1.append(df_Stop_data_1_new)\n"
     ]
    },
    {
     "name": "stdout",
     "output_type": "stream",
     "text": [
      "   col1  col2\n",
      "0     1     3\n",
      "1     2     4\n",
      "   col1  col2\n",
      "0     1     3\n",
      "1     2     4\n"
     ]
    },
    {
     "name": "stderr",
     "output_type": "stream",
     "text": [
      "C:\\Users\\Matucoco\\AppData\\Local\\Temp\\ipykernel_13960\\209497950.py:21: FutureWarning: The frame.append method is deprecated and will be removed from pandas in a future version. Use pandas.concat instead.\n",
      "  df_scooter_data = df_scooter_data.append(df_scooter_data_new)\n",
      "C:\\Users\\Matucoco\\AppData\\Local\\Temp\\ipykernel_13960\\209497950.py:22: FutureWarning: The frame.append method is deprecated and will be removed from pandas in a future version. Use pandas.concat instead.\n",
      "  df_Stop_data_1 = df_Stop_data_1.append(df_Stop_data_1_new)\n"
     ]
    },
    {
     "name": "stdout",
     "output_type": "stream",
     "text": [
      "   col1  col2\n",
      "0     1     3\n",
      "1     2     4\n",
      "0     1     3\n",
      "1     2     4\n",
      "   col1  col2\n",
      "0     1     3\n",
      "1     2     4\n",
      "0     1     3\n",
      "1     2     4\n"
     ]
    }
   ],
   "source": [
    "df_scooter_data = pd.DataFrame()\n",
    "df_scooter_data_new = pd.DataFrame()\n",
    "df_Stop_data_1 = pd.DataFrame() \n",
    "df_Stop_data_1_new = pd.DataFrame() \n",
    "\n",
    "while True:\n",
    "    if dt.datetime.now().hour < 20 or dt.datetime.now().hour > 7: #set hours of code looping, make sure the second value is less than the second value on the following if line\n",
    "        #some irrelevant function here\n",
    "        print('getting ready to start')\n",
    "        time.sleep(1) \n",
    "        \n",
    "        while True:\n",
    "            if dt.datetime.now().hour < 20 or dt.datetime.now().hour > 8: #set hours of code looping\n",
    "                \n",
    "                # put in code to retrieve from transit api\n",
    "                \n",
    "                temp = {'col1': [1, 2], 'col2': [3, 4]} #delete this later\n",
    "                df_scooter_data_new = pd.DataFrame(data=temp) # replace with code for dataframe containing all the information on the \n",
    "                df_Stop_data_1_new = pd.DataFrame(data=temp)# replace with code for dataframe containing departure times for first transit stop, copy and past for however many stops we want to do\n",
    "                \n",
    "                df_scooter_data = df_scooter_data.append(df_scooter_data_new)\n",
    "                df_Stop_data_1 = df_Stop_data_1.append(df_Stop_data_1_new)\n",
    "                \n",
    "                print(df_scooter_data)\n",
    "                print(df_Stop_data_1)\n",
    "                time.sleep(60) #set time to repeat in seconds\n",
    "            else: \n",
    "                continue\n",
    "    else:\n",
    "        print(\"Not time yet\")\n",
    "        time.sleep(1)\n",
    "        continue\n",
    "        \n",
    "date = dt.date.today()\n",
    "scooter_file_name = f\"Scooters {date}\".format(date)\n",
    "Stop_1_file_name = f\"Stop 1 {date}\".format(date)\n",
    "\n",
    "df_scooter_data.to_csv(f\"Data/{scooter_file_name}.csv\".format(scooter_file_name))\n",
    "df_Stop_data_1.to_csv(f\"Data/{Stop_1_file_name}.csv\".format(Stop_1_file_name))                    "
   ]
  },
  {
   "cell_type": "code",
   "execution_count": null,
   "id": "d180c9ae-e688-4792-a9a1-d019ac57708c",
   "metadata": {},
   "outputs": [],
   "source": []
  }
 ],
 "metadata": {
  "kernelspec": {
   "display_name": "Python 3 (ipykernel)",
   "language": "python",
   "name": "python3"
  },
  "language_info": {
   "codemirror_mode": {
    "name": "ipython",
    "version": 3
   },
   "file_extension": ".py",
   "mimetype": "text/x-python",
   "name": "python",
   "nbconvert_exporter": "python",
   "pygments_lexer": "ipython3",
   "version": "3.10.9"
  }
 },
 "nbformat": 4,
 "nbformat_minor": 5
}
