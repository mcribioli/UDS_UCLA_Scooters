{
 "cells": [
  {
   "cell_type": "markdown",
   "id": "0445d452-3350-44de-94a8-2c475505f8cf",
   "metadata": {},
   "source": [
    "## 05/17 Midterm Presentation"
   ]
  },
  {
   "cell_type": "code",
   "execution_count": null,
   "id": "8c8254fd-4480-42a9-b8ce-24d83168dfb9",
   "metadata": {},
   "outputs": [],
   "source": []
  }
 ],
 "metadata": {
  "kernelspec": {
   "display_name": "Python 3 (ipykernel)",
   "language": "python",
   "name": "python3"
  },
  "language_info": {
   "codemirror_mode": {
    "name": "ipython",
    "version": 3
   },
   "file_extension": ".py",
   "mimetype": "text/x-python",
   "name": "python",
   "nbconvert_exporter": "python",
   "pygments_lexer": "ipython3",
   "version": "3.9.16"
  }
 },
 "nbformat": 4,
 "nbformat_minor": 5
}
